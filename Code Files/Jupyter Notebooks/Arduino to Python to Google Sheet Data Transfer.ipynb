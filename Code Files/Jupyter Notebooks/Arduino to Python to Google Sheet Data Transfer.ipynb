{
 "cells": [
  {
   "cell_type": "markdown",
   "id": "71de7845",
   "metadata": {},
   "source": [
    "**This code takes readings from the Arduino Mega to the Python script running on the laptop or Rasperry Pi4**\n",
    "\n",
    "The data from the Arduino Mega is taken to the Python script where the control action is determined. The data is parallely sent to the Google Sheet where all the values taken from the system throughout its operational period is stored."
   ]
  },
  {
   "cell_type": "code",
   "execution_count": null,
   "id": "2a2f2557",
   "metadata": {},
   "outputs": [],
   "source": [
    "import gspread\n",
    "import serial\n",
    "import time\n",
    "from serial.tools import list_ports\n",
    "from oauth2client.service_account import ServiceAccountCredentials\n",
    "\n",
    "# Set your credentials JSON file path and Google Sheet name\n",
    "CREDENTIALS_FILE = 'automated-hydroponics-data-40ded0143ddf.json'\n",
    "SPREADSHEET_NAME = 'Test'\n",
    "WORKSHEET_NAME = 'Sheet1'\n",
    "\n",
    "# Authenticate using the JSON file\n",
    "scope = ['https://spreadsheets.google.com/feeds', 'https://www.googleapis.com/auth/drive']\n",
    "creds = ServiceAccountCredentials.from_json_keyfile_name(CREDENTIALS_FILE, scope)\n",
    "client = gspread.authorize(creds)\n",
    "\n",
    "# Open the spreadsheet\n",
    "spreadsheet = client.open(SPREADSHEET_NAME)\n",
    "\n",
    "# Select the specific worksheet by name\n",
    "worksheet = spreadsheet.worksheet(WORKSHEET_NAME)\n",
    "\n",
    "# List available serial ports\n",
    "ports = list_ports.comports()\n",
    "for port in ports:\n",
    "    print(port)\n",
    "\n",
    "# Open a serial connection\n",
    "serialCom = serial.Serial(\"COM9\", 9600)\n",
    "\n",
    "# Prepare the serial connection\n",
    "serialCom.setDTR(False)\n",
    "time.sleep(1)\n",
    "serialCom.flushInput()\n",
    "serialCom.setDTR(True)\n",
    "\n",
    "while True:\n",
    "    try:\n",
    "        # Read a line of data from the serial connection\n",
    "        s_bytes = serialCom.readline()\n",
    "        decoded_bytes = s_bytes.decode(\"utf-8\").strip(\"\\n\\r\")\n",
    "\n",
    "        # Split the received data into individual values\n",
    "        lines = decoded_bytes.split(',')\n",
    "        EC = float(lines[0])\n",
    "        pH = float(lines[1])\n",
    "        Humidity = float(lines[2])\n",
    "        Air_temperature = float(lines[3])\n",
    "        Water_temperature = float(lines[4])\n",
    "        Distance = float(lines[5])\n",
    "\n",
    "        # Print and send EC/2 data to the Google Sheet\n",
    "        print(EC / 2)\n",
    "        data_to_send = [EC / 2]  # Send EC/2 to the Google Sheet\n",
    "        worksheet.append_row(data_to_send)\n",
    "\n",
    "    except Exception as e:\n",
    "        print(\"ERROR! There was an error in the code:\", str(e))"
   ]
  }
 ],
 "metadata": {
  "kernelspec": {
   "display_name": "Python 3 (ipykernel)",
   "language": "python",
   "name": "python3"
  },
  "language_info": {
   "codemirror_mode": {
    "name": "ipython",
    "version": 3
   },
   "file_extension": ".py",
   "mimetype": "text/x-python",
   "name": "python",
   "nbconvert_exporter": "python",
   "pygments_lexer": "ipython3",
   "version": "3.11.3"
  }
 },
 "nbformat": 4,
 "nbformat_minor": 5
}
