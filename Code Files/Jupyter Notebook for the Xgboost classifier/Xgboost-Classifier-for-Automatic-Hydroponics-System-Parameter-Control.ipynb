{
 "cells": [
  {
   "cell_type": "markdown",
   "id": "0fea743d",
   "metadata": {},
   "source": [
    "**Actual Xgboost Classifier Code**"
   ]
  },
  {
   "cell_type": "code",
   "execution_count": 19,
   "id": "f8b01bbc",
   "metadata": {
    "scrolled": false
   },
   "outputs": [
    {
     "name": "stdout",
     "output_type": "stream",
     "text": [
      "Accuracy: 0.9018912529550828\n",
      "Precision: 0.9075368932868014\n",
      "Recall: 0.9018912529550828\n",
      "F1 Score: 0.8956718772301853\n",
      "CPU times: total: 29.6 s\n",
      "Wall time: 29.9 s\n"
     ]
    },
    {
     "name": "stderr",
     "output_type": "stream",
     "text": [
      "D:\\ProgramData\\anaconda3\\Lib\\site-packages\\sklearn\\metrics\\_classification.py:1344: UndefinedMetricWarning: Precision is ill-defined and being set to 0.0 in labels with no predicted samples. Use `zero_division` parameter to control this behavior.\n",
      "  _warn_prf(average, modifier, msg_start, len(result))\n",
      "D:\\ProgramData\\anaconda3\\Lib\\site-packages\\sklearn\\metrics\\_classification.py:1344: UndefinedMetricWarning: Recall is ill-defined and being set to 0.0 in labels with no true samples. Use `zero_division` parameter to control this behavior.\n",
      "  _warn_prf(average, modifier, msg_start, len(result))\n"
     ]
    }
   ],
   "source": [
    "%%time\n",
    "\n",
    "import pandas as pd\n",
    "import numpy as np\n",
    "import xgboost as xgb\n",
    "from sklearn.model_selection import train_test_split\n",
    "from sklearn.metrics import accuracy_score, f1_score, precision_score, recall_score\n",
    "from sklearn.preprocessing import StandardScaler\n",
    "\n",
    "# Step 1: Load the CSV file\n",
    "data = pd.read_csv('Sample_Data_4228.csv')\n",
    "\n",
    "# Step 2: Preprocess the data\n",
    "# Split the data into features (X) and labels (y)\n",
    "X = data[['pH', 'EC', 'W_Temp', 'A_Temp', 'Humid', 'CO2']]\n",
    "y = data['Decimal_Label']\n",
    "\n",
    "# Step 3: Normalize the features using z-score normalization\n",
    "scaler = StandardScaler()\n",
    "X = scaler.fit_transform(X)\n",
    "\n",
    "# Step 4: Split the data into training and testing sets\n",
    "# 80% of the data will be used for training, and 20% for testing\n",
    "# The random_state parameter ensures reproducibility of the split\n",
    "X_train, X_test, y_train, y_test = train_test_split(X, y, test_size=0.2, random_state=42)\n",
    "\n",
    "# Step 5: Define hyperparameters with regularization\n",
    "params = {\n",
    "    'max_depth': 4,                  # Maximum depth of each tree (controls model complexity)\n",
    "    'learning_rate': 0.08,           # Learning rate (step size) for each boosting iteration\n",
    "    'n_estimators': 150,             # Number of boosting iterations (number of trees)\n",
    "    'min_child_weight': 0.0625,      # Minimum sum of instance weight (Hessian) needed in a child\n",
    "    'subsample': 0.8,                # Subsample ratio of the training instances\n",
    "    'colsample_bytree': 0.8,         # Subsample ratio of columns when constructing each tree\n",
    "    'reg_alpha': 0.1,                # L1 regularization term (Lasso)\n",
    "    'reg_lambda': 1.0,               # L2 regularization term (Ridge)\n",
    "    'objective': 'multi:softmax',    # Objective function for multiclass classification\n",
    "}\n",
    "\n",
    "# Step 6: Create the XGBoost model with hyperparameters\n",
    "model = xgb.XGBClassifier(**params)\n",
    "\n",
    "# Step 7: Train the model\n",
    "model.fit(X_train, y_train)\n",
    "\n",
    "# Step 8: Make predictions\n",
    "y_pred = model.predict(X_test)\n",
    "\n",
    "# Step 9: Evaluate the model\n",
    "# Calculate the accuracy of the model's predictions\n",
    "accuracy = accuracy_score(y_test, y_pred)\n",
    "# Calculate the F1 score of the model's predictions\n",
    "# The 'weighted' average is used to account for class imbalance\n",
    "f1 = f1_score(y_test, y_pred, average='weighted')\n",
    "# Calculate the precision score of the model's predictions\n",
    "precision = precision_score(y_test, y_pred, average='weighted')\n",
    "# Calculate the recall score of the model's predictions\n",
    "recall = recall_score(y_test, y_pred, average='weighted')\n",
    "\n",
    "# Print evaluation metrics\n",
    "print(\"Accuracy:\", accuracy)\n",
    "print(\"Precision:\", precision)\n",
    "print(\"Recall:\", recall)\n",
    "print(\"F1 Score:\", f1)"
   ]
  },
  {
   "cell_type": "markdown",
   "id": "561eae50",
   "metadata": {},
   "source": [
    "**Cross-Validation of Xgboost Classifier Model**"
   ]
  },
  {
   "cell_type": "code",
   "execution_count": null,
   "id": "1444c546",
   "metadata": {},
   "outputs": [
    {
     "name": "stderr",
     "output_type": "stream",
     "text": [
      "\r",
      "  0%|          | 0/9 ETA: 0"
     ]
    }
   ],
   "source": [
    "%%time\n",
    "\n",
    "import pandas as pd\n",
    "import numpy as np\n",
    "import xgboost as xgb\n",
    "from sklearn.model_selection import train_test_split, GridSearchCV\n",
    "from sklearn.metrics import accuracy_score, f1_score, precision_score, recall_score\n",
    "from sklearn.preprocessing import StandardScaler\n",
    "from tqdm import tqdm\n",
    "\n",
    "# Step 1: Load the CSV file\n",
    "data = pd.read_csv('Sample_Data_4228.csv')\n",
    "\n",
    "# Step 2: Preprocess the data\n",
    "# Split the data into features (X) and labels (y)\n",
    "X = data[['pH', 'EC', 'W_Temp', 'A_Temp', 'Humid', 'CO2']]\n",
    "y = data['Decimal_Label']\n",
    "\n",
    "# Step 3: Normalize the features using z-score normalization\n",
    "scaler = StandardScaler()\n",
    "X = scaler.fit_transform(X)\n",
    "\n",
    "# Step 4: Split the data into training and testing sets\n",
    "# 80% of the data will be used for training, and 20% for testing\n",
    "# The random_state parameter ensures reproducibility of the split\n",
    "X_train, X_test, y_train, y_test = train_test_split(X, y, test_size=0.2, random_state=42)\n",
    "\n",
    "# Step 5: Define hyperparameters with a range of values for grid search\n",
    "params = {\n",
    "    'max_depth': [3, 4, 5],                          # Maximum depth of each tree (controls model complexity)\n",
    "    'learning_rate': [0.05, 0.1, 0.15],               # Learning rate (step size) for each boosting iteration\n",
    "    'n_estimators': [100, 150, 200],                  # Number of boosting iterations (number of trees)\n",
    "    'min_child_weight': [0.05, 0.1, 0.2],             # Minimum sum of instance weight (Hessian) needed in a child\n",
    "    'subsample': [0.7, 0.8, 0.9],                     # Subsample ratio of the training instances\n",
    "    'colsample_bytree': [0.7, 0.8, 0.9],              # Subsample ratio of columns when constructing each tree\n",
    "    'reg_alpha': [0.1, 0.5, 1.0],                     # L1 regularization term (Lasso)\n",
    "    'reg_lambda': [0.1, 0.5, 1.0],                    # L2 regularization term (Ridge)\n",
    "    'objective': ['multi:softmax'],                   # Objective function for multiclass classification\n",
    "}\n",
    "\n",
    "# Step 6: Create the XGBoost model\n",
    "model = xgb.XGBClassifier()\n",
    "\n",
    "# Step 7: Perform grid search cross-validation\n",
    "grid_search = GridSearchCV(estimator=model, param_grid=params, scoring='f1_weighted', cv=2, verbose=0, n_jobs=-1)\n",
    "\n",
    "# Wrap GridSearchCV with tqdm for progress bar and ETA updates\n",
    "with tqdm(total=len(params), bar_format='{l_bar}{bar}| {n_fmt}/{total_fmt} ETA: {remaining_s}') as pbar:\n",
    "    grid_search.fit(X_train, y_train)\n",
    "    pbar.close()\n",
    "\n",
    "# Step 8: Get the best parameters and model\n",
    "best_params = grid_search.best_params_\n",
    "best_model = grid_search.best_estimator_\n",
    "\n",
    "# Step 9: Make predictions using the best model\n",
    "y_pred = best_model.predict(X_test)\n",
    "\n",
    "# Step 10: Evaluate the model\n",
    "# Calculate the accuracy of the model's predictions\n",
    "accuracy = accuracy_score(y_test, y_pred)\n",
    "# Calculate the F1 score of the model's predictions\n",
    "# The 'weighted' average is used to account for class imbalance\n",
    "f1 = f1_score(y_test, y_pred, average='weighted')\n",
    "# Calculate the precision score of the model's predictions\n",
    "precision = precision_score(y_test, y_pred, average='weighted')\n",
    "# Calculate the recall score of the model's predictions\n",
    "recall = recall_score(y_test, y_pred, average='weighted')\n",
    "\n",
    "# Print evaluation metrics\n",
    "print(\"Best Parameters:\", best_params)\n",
    "print(\"Accuracy:\", accuracy)\n",
    "print(\"Precision:\", precision)\n",
    "print(\"Recall:\", recall)\n",
    "print(\"F1 Score:\", f1)"
   ]
  },
  {
   "cell_type": "code",
   "execution_count": null,
   "id": "9a895044",
   "metadata": {},
   "outputs": [],
   "source": []
  }
 ],
 "metadata": {
  "kernelspec": {
   "display_name": "Python 3 (ipykernel)",
   "language": "python",
   "name": "python3"
  },
  "language_info": {
   "codemirror_mode": {
    "name": "ipython",
    "version": 3
   },
   "file_extension": ".py",
   "mimetype": "text/x-python",
   "name": "python",
   "nbconvert_exporter": "python",
   "pygments_lexer": "ipython3",
   "version": "3.11.3"
  }
 },
 "nbformat": 4,
 "nbformat_minor": 5
}
